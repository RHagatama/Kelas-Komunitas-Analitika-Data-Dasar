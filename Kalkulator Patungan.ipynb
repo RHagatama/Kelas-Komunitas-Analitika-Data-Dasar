{
 "cells": [
  {
   "cell_type": "markdown",
   "id": "3624f848",
   "metadata": {},
   "source": [
    "# Kalkulator Patungan Shopee/Grab Food"
   ]
  },
  {
   "cell_type": "code",
   "execution_count": 2,
   "id": "b1e5e5c0",
   "metadata": {},
   "outputs": [],
   "source": [
    "import pandas as pd\n",
    "import numpy as np\n",
    "\n",
    "def bayar_cuk(price, disc_perc, deliv_price, max_disc, service):\n",
    "    total_disc = sum(price) * disc_perc\n",
    "    \n",
    "    if total_disc > max_disc:\n",
    "        fix_disc = max_disc\n",
    "    else:\n",
    "        fix_disc = total_disc\n",
    "    \n",
    "    disc_prop = []\n",
    "    prop = []\n",
    "    for i in price:\n",
    "        disc_prop.append(round(i/sum(price)*fix_disc, 2))\n",
    "        prop.append(round(i/sum(price)*100, 2))\n",
    "    \n",
    "    price_after_disc = np.array(price) - np.array(disc_prop)\n",
    "    deliv_fee = deliv_price/len(price)\n",
    "    service_fee = service/len(price)\n",
    "    pay_split = price_after_disc + deliv_fee + service_fee\n",
    "    \n",
    "    tabel_hash = {\n",
    "        'harga': price,\n",
    "        'proporsi': prop,\n",
    "        'diskon': disc_prop,\n",
    "        'harga_setelah_diskon': price_after_disc,\n",
    "        'ongkir': deliv_fee,\n",
    "        'biaya_layanan': service_fee,\n",
    "        'bayar': pay_split\n",
    "    }\n",
    "    \n",
    "    tabel = pd.DataFrame(tabel_hash)\n",
    "    \n",
    "    return tabel"
   ]
  },
  {
   "cell_type": "code",
   "execution_count": 3,
   "id": "d923ca64",
   "metadata": {},
   "outputs": [
    {
     "data": {
      "text/html": [
       "<div>\n",
       "<style scoped>\n",
       "    .dataframe tbody tr th:only-of-type {\n",
       "        vertical-align: middle;\n",
       "    }\n",
       "\n",
       "    .dataframe tbody tr th {\n",
       "        vertical-align: top;\n",
       "    }\n",
       "\n",
       "    .dataframe thead th {\n",
       "        text-align: right;\n",
       "    }\n",
       "</style>\n",
       "<table border=\"1\" class=\"dataframe\">\n",
       "  <thead>\n",
       "    <tr style=\"text-align: right;\">\n",
       "      <th></th>\n",
       "      <th>harga</th>\n",
       "      <th>proporsi</th>\n",
       "      <th>diskon</th>\n",
       "      <th>harga_setelah_diskon</th>\n",
       "      <th>ongkir</th>\n",
       "      <th>biaya_layanan</th>\n",
       "      <th>bayar</th>\n",
       "    </tr>\n",
       "  </thead>\n",
       "  <tbody>\n",
       "    <tr>\n",
       "      <th>0</th>\n",
       "      <td>17500</td>\n",
       "      <td>48.61</td>\n",
       "      <td>10500.0</td>\n",
       "      <td>7000.0</td>\n",
       "      <td>0.0</td>\n",
       "      <td>1500.0</td>\n",
       "      <td>8500.0</td>\n",
       "    </tr>\n",
       "    <tr>\n",
       "      <th>1</th>\n",
       "      <td>18500</td>\n",
       "      <td>51.39</td>\n",
       "      <td>11100.0</td>\n",
       "      <td>7400.0</td>\n",
       "      <td>0.0</td>\n",
       "      <td>1500.0</td>\n",
       "      <td>8900.0</td>\n",
       "    </tr>\n",
       "  </tbody>\n",
       "</table>\n",
       "</div>"
      ],
      "text/plain": [
       "   harga  proporsi   diskon  harga_setelah_diskon  ongkir  biaya_layanan  \\\n",
       "0  17500     48.61  10500.0                7000.0     0.0         1500.0   \n",
       "1  18500     51.39  11100.0                7400.0     0.0         1500.0   \n",
       "\n",
       "    bayar  \n",
       "0  8500.0  \n",
       "1  8900.0  "
      ]
     },
     "execution_count": 3,
     "metadata": {},
     "output_type": "execute_result"
    }
   ],
   "source": [
    "patungan = bayar_cuk(\n",
    "    price       = [17500, 18500],\n",
    "    disc_perc   = 0.6,\n",
    "    deliv_price = 0,\n",
    "    max_disc    = 25000,\n",
    "    service     = 3000\n",
    ")\n",
    "\n",
    "patungan"
   ]
  },
  {
   "cell_type": "code",
   "execution_count": 17,
   "id": "761d7ef2-cbcc-40a1-a16f-42765f22bff5",
   "metadata": {},
   "outputs": [
    {
     "data": {
      "text/plain": [
       "harga                   36000.0\n",
       "proporsi                  100.0\n",
       "diskon                  21600.0\n",
       "harga_setelah_diskon    14400.0\n",
       "ongkir                      0.0\n",
       "biaya_layanan            3000.0\n",
       "bayar                   17400.0\n",
       "dtype: float64"
      ]
     },
     "execution_count": 17,
     "metadata": {},
     "output_type": "execute_result"
    }
   ],
   "source": [
    "patungan.sum()"
   ]
  }
 ],
 "metadata": {
  "kernelspec": {
   "display_name": "Python 3 (ipykernel)",
   "language": "python",
   "name": "python3"
  },
  "language_info": {
   "codemirror_mode": {
    "name": "ipython",
    "version": 3
   },
   "file_extension": ".py",
   "mimetype": "text/x-python",
   "name": "python",
   "nbconvert_exporter": "python",
   "pygments_lexer": "ipython3",
   "version": "3.9.7"
  },
  "widgets": {
   "application/vnd.jupyter.widget-state+json": {
    "state": {},
    "version_major": 2,
    "version_minor": 0
   }
  }
 },
 "nbformat": 4,
 "nbformat_minor": 5
}
