{
 "cells": [
  {
   "cell_type": "markdown",
   "id": "3624f848",
   "metadata": {},
   "source": [
    "# Kalkulator Patungan Shopee/Grab Food"
   ]
  },
  {
   "cell_type": "code",
   "execution_count": 4,
   "id": "b1e5e5c0",
   "metadata": {},
   "outputs": [],
   "source": [
    "import pandas as pd\n",
    "import numpy as np\n",
    "\n",
    "def bayar_cuk(price, disc_perc, deliv_price, max_disc, service):\n",
    "    total_disc = sum(price) * disc_perc\n",
    "    \n",
    "    if total_disc > max_disc:\n",
    "        fix_disc = max_disc\n",
    "    else:\n",
    "        fix_disc = total_disc\n",
    "    \n",
    "    disc_prop = np.array([])\n",
    "    prop = []\n",
    "    for i in price:\n",
    "        disc_prop.append(round(i/sum(price)*fix_disc, 2))\n",
    "        prop.append(round(i/sum(price)*100, 2))\n",
    "    \n",
    "    price_after_disc = np.array(price) - disc_prop\n",
    "    deliv_fee = deliv_price/len(price)\n",
    "    service_fee = service/len(price)\n",
    "    pay_split = price_after_disc + deliv_fee + service_fee\n",
    "    \n",
    "    tabel_hash = {\n",
    "        'harga': price,\n",
    "        'proporsi': prop,\n",
    "        'diskon': disc_prop,\n",
    "        'harga_setelah_diskon': price_after_disc,\n",
    "        'ongkir': deliv_fee,\n",
    "        'biaya_layanan': service_fee,\n",
    "        'bayar': pay_split\n",
    "    }\n",
    "    \n",
    "    tabel = pd.DataFrame(tabel_hash)\n",
    "    \n",
    "    return tabel"
   ]
  },
  {
   "cell_type": "code",
   "execution_count": 7,
   "id": "d923ca64",
   "metadata": {},
   "outputs": [
    {
     "data": {
      "text/html": [
       "<div>\n",
       "<style scoped>\n",
       "    .dataframe tbody tr th:only-of-type {\n",
       "        vertical-align: middle;\n",
       "    }\n",
       "\n",
       "    .dataframe tbody tr th {\n",
       "        vertical-align: top;\n",
       "    }\n",
       "\n",
       "    .dataframe thead th {\n",
       "        text-align: right;\n",
       "    }\n",
       "</style>\n",
       "<table border=\"1\" class=\"dataframe\">\n",
       "  <thead>\n",
       "    <tr style=\"text-align: right;\">\n",
       "      <th></th>\n",
       "      <th>harga</th>\n",
       "      <th>proporsi</th>\n",
       "      <th>diskon</th>\n",
       "      <th>harga_setelah_diskon</th>\n",
       "      <th>ongkir</th>\n",
       "      <th>biaya_layanan</th>\n",
       "      <th>bayar</th>\n",
       "    </tr>\n",
       "  </thead>\n",
       "  <tbody>\n",
       "    <tr>\n",
       "      <th>0</th>\n",
       "      <td>17000</td>\n",
       "      <td>17.89</td>\n",
       "      <td>7157.89</td>\n",
       "      <td>9842.11</td>\n",
       "      <td>0.0</td>\n",
       "      <td>600.0</td>\n",
       "      <td>10442.11</td>\n",
       "    </tr>\n",
       "    <tr>\n",
       "      <th>1</th>\n",
       "      <td>18000</td>\n",
       "      <td>18.95</td>\n",
       "      <td>7578.95</td>\n",
       "      <td>10421.05</td>\n",
       "      <td>0.0</td>\n",
       "      <td>600.0</td>\n",
       "      <td>11021.05</td>\n",
       "    </tr>\n",
       "    <tr>\n",
       "      <th>2</th>\n",
       "      <td>22000</td>\n",
       "      <td>23.16</td>\n",
       "      <td>9263.16</td>\n",
       "      <td>12736.84</td>\n",
       "      <td>0.0</td>\n",
       "      <td>600.0</td>\n",
       "      <td>13336.84</td>\n",
       "    </tr>\n",
       "    <tr>\n",
       "      <th>3</th>\n",
       "      <td>17000</td>\n",
       "      <td>17.89</td>\n",
       "      <td>7157.89</td>\n",
       "      <td>9842.11</td>\n",
       "      <td>0.0</td>\n",
       "      <td>600.0</td>\n",
       "      <td>10442.11</td>\n",
       "    </tr>\n",
       "    <tr>\n",
       "      <th>4</th>\n",
       "      <td>21000</td>\n",
       "      <td>22.11</td>\n",
       "      <td>8842.11</td>\n",
       "      <td>12157.89</td>\n",
       "      <td>0.0</td>\n",
       "      <td>600.0</td>\n",
       "      <td>12757.89</td>\n",
       "    </tr>\n",
       "  </tbody>\n",
       "</table>\n",
       "</div>"
      ],
      "text/plain": [
       "   harga  proporsi   diskon  harga_setelah_diskon  ongkir  biaya_layanan  \\\n",
       "0  17000     17.89  7157.89               9842.11     0.0          600.0   \n",
       "1  18000     18.95  7578.95              10421.05     0.0          600.0   \n",
       "2  22000     23.16  9263.16              12736.84     0.0          600.0   \n",
       "3  17000     17.89  7157.89               9842.11     0.0          600.0   \n",
       "4  21000     22.11  8842.11              12157.89     0.0          600.0   \n",
       "\n",
       "      bayar  \n",
       "0  10442.11  \n",
       "1  11021.05  \n",
       "2  13336.84  \n",
       "3  10442.11  \n",
       "4  12757.89  "
      ]
     },
     "execution_count": 7,
     "metadata": {},
     "output_type": "execute_result"
    }
   ],
   "source": [
    "patungan = bayar_cuk(\n",
    "    price       = [17000, 18000, 22000, 17000, 21000],\n",
    "    disc_perc   = 0.5,\n",
    "    deliv_price = 0,\n",
    "    max_disc    = 40000,\n",
    "    service     = 3000\n",
    ")\n",
    "\n",
    "patungan"
   ]
  },
  {
   "cell_type": "code",
   "execution_count": 3,
   "id": "93e6fc26-fadb-4396-92f7-2aaf2039e9d8",
   "metadata": {},
   "outputs": [
    {
     "data": {
      "text/plain": [
       "17.47"
      ]
     },
     "execution_count": 3,
     "metadata": {},
     "output_type": "execute_result"
    }
   ],
   "source": [
    "round(17.47363747, 2)"
   ]
  }
 ],
 "metadata": {
  "kernelspec": {
   "display_name": "Python 3 (ipykernel)",
   "language": "python",
   "name": "python3"
  },
  "language_info": {
   "codemirror_mode": {
    "name": "ipython",
    "version": 3
   },
   "file_extension": ".py",
   "mimetype": "text/x-python",
   "name": "python",
   "nbconvert_exporter": "python",
   "pygments_lexer": "ipython3",
   "version": "3.9.7"
  },
  "widgets": {
   "application/vnd.jupyter.widget-state+json": {
    "state": {},
    "version_major": 2,
    "version_minor": 0
   }
  }
 },
 "nbformat": 4,
 "nbformat_minor": 5
}
