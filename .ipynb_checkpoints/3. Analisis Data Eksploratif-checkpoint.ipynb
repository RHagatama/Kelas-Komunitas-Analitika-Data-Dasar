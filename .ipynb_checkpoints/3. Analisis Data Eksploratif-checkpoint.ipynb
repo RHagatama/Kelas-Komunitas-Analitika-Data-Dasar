{
 "cells": [
  {
   "cell_type": "markdown",
   "id": "48c08daf-e278-410f-93fa-353622c6dc39",
   "metadata": {},
   "source": [
    "# Analisis Data Eksploratif Dengan Pendekatan Visualisasi"
   ]
  },
  {
   "cell_type": "markdown",
   "id": "c0ae4aae-12db-4f09-a746-c3cd0077dbc5",
   "metadata": {},
   "source": [
    "## 1. Memuat dan Memvalidasi Data"
   ]
  },
  {
   "cell_type": "code",
   "execution_count": 134,
   "id": "960a8057-1680-40ec-9dfd-e2d6a91f48d8",
   "metadata": {},
   "outputs": [],
   "source": [
    "# Memuat package\n",
    "import pandas as pd\n",
    "import numpy as np\n",
    "import matplotlib.pyplot as plt\n",
    "import seaborn as sns\n",
    "\n",
    "sns.set_style('darkgrid')"
   ]
  },
  {
   "cell_type": "code",
   "execution_count": 117,
   "id": "ef090ec0-3f79-4c49-a008-d307f31ffebc",
   "metadata": {},
   "outputs": [
    {
     "data": {
      "text/html": [
       "<div>\n",
       "<style scoped>\n",
       "    .dataframe tbody tr th:only-of-type {\n",
       "        vertical-align: middle;\n",
       "    }\n",
       "\n",
       "    .dataframe tbody tr th {\n",
       "        vertical-align: top;\n",
       "    }\n",
       "\n",
       "    .dataframe thead th {\n",
       "        text-align: right;\n",
       "    }\n",
       "</style>\n",
       "<table border=\"1\" class=\"dataframe\">\n",
       "  <thead>\n",
       "    <tr style=\"text-align: right;\">\n",
       "      <th></th>\n",
       "      <th>carat</th>\n",
       "      <th>cut</th>\n",
       "      <th>color</th>\n",
       "      <th>clarity</th>\n",
       "      <th>depth</th>\n",
       "      <th>table</th>\n",
       "      <th>price</th>\n",
       "      <th>x</th>\n",
       "      <th>y</th>\n",
       "      <th>z</th>\n",
       "    </tr>\n",
       "  </thead>\n",
       "  <tbody>\n",
       "    <tr>\n",
       "      <th>0</th>\n",
       "      <td>1.50</td>\n",
       "      <td>Fair</td>\n",
       "      <td>G</td>\n",
       "      <td>SI1</td>\n",
       "      <td>64.5</td>\n",
       "      <td>57.0</td>\n",
       "      <td>10352.0</td>\n",
       "      <td>7.15</td>\n",
       "      <td>7.09</td>\n",
       "      <td>4.59</td>\n",
       "    </tr>\n",
       "    <tr>\n",
       "      <th>1</th>\n",
       "      <td>0.70</td>\n",
       "      <td>Ideal</td>\n",
       "      <td>E</td>\n",
       "      <td>VS2</td>\n",
       "      <td>61.4</td>\n",
       "      <td>57.0</td>\n",
       "      <td>2274.0</td>\n",
       "      <td>5.72</td>\n",
       "      <td>5.78</td>\n",
       "      <td>3.53</td>\n",
       "    </tr>\n",
       "    <tr>\n",
       "      <th>2</th>\n",
       "      <td>1.22</td>\n",
       "      <td>Premium</td>\n",
       "      <td>G</td>\n",
       "      <td>VS1</td>\n",
       "      <td>61.3</td>\n",
       "      <td>58.0</td>\n",
       "      <td>8779.0</td>\n",
       "      <td>6.91</td>\n",
       "      <td>6.89</td>\n",
       "      <td>4.23</td>\n",
       "    </tr>\n",
       "    <tr>\n",
       "      <th>3</th>\n",
       "      <td>0.51</td>\n",
       "      <td>Premium</td>\n",
       "      <td>E</td>\n",
       "      <td>VS2</td>\n",
       "      <td>62.5</td>\n",
       "      <td>60.0</td>\n",
       "      <td>1590.0</td>\n",
       "      <td>5.08</td>\n",
       "      <td>5.10</td>\n",
       "      <td>3.18</td>\n",
       "    </tr>\n",
       "    <tr>\n",
       "      <th>4</th>\n",
       "      <td>2.02</td>\n",
       "      <td>Very Good</td>\n",
       "      <td>J</td>\n",
       "      <td>SI2</td>\n",
       "      <td>59.2</td>\n",
       "      <td>60.0</td>\n",
       "      <td>11757.0</td>\n",
       "      <td>8.27</td>\n",
       "      <td>8.39</td>\n",
       "      <td>4.91</td>\n",
       "    </tr>\n",
       "  </tbody>\n",
       "</table>\n",
       "</div>"
      ],
      "text/plain": [
       "   carat        cut color clarity  depth  table    price     x     y     z\n",
       "0   1.50       Fair     G     SI1   64.5   57.0  10352.0  7.15  7.09  4.59\n",
       "1   0.70      Ideal     E     VS2   61.4   57.0   2274.0  5.72  5.78  3.53\n",
       "2   1.22    Premium     G     VS1   61.3   58.0   8779.0  6.91  6.89  4.23\n",
       "3   0.51    Premium     E     VS2   62.5   60.0   1590.0  5.08  5.10  3.18\n",
       "4   2.02  Very Good     J     SI2   59.2   60.0  11757.0  8.27  8.39  4.91"
      ]
     },
     "execution_count": 117,
     "metadata": {},
     "output_type": "execute_result"
    }
   ],
   "source": [
    "# Memuat Data\n",
    "diamonds = pd.read_csv('diamonds.csv')\n",
    "diamonds.head()"
   ]
  },
  {
   "cell_type": "code",
   "execution_count": 118,
   "id": "095e9cb2-f467-4017-b925-0f83ddc658ea",
   "metadata": {},
   "outputs": [
    {
     "data": {
      "text/plain": [
       "(50000, 10)"
      ]
     },
     "execution_count": 118,
     "metadata": {},
     "output_type": "execute_result"
    }
   ],
   "source": [
    "# Cek dimensi dataframe\n",
    "diamonds.shape"
   ]
  },
  {
   "cell_type": "code",
   "execution_count": 119,
   "id": "e86fd235-07bf-407e-b15e-b422cb53a350",
   "metadata": {},
   "outputs": [
    {
     "data": {
      "text/plain": [
       "carat      float64\n",
       "cut         object\n",
       "color       object\n",
       "clarity     object\n",
       "depth      float64\n",
       "table      float64\n",
       "price      float64\n",
       "x          float64\n",
       "y          float64\n",
       "z          float64\n",
       "dtype: object"
      ]
     },
     "execution_count": 119,
     "metadata": {},
     "output_type": "execute_result"
    }
   ],
   "source": [
    "# Cek tipe data\n",
    "diamonds.dtypes"
   ]
  },
  {
   "cell_type": "code",
   "execution_count": 120,
   "id": "2344ca72-db68-4ad3-a91c-a4eb443ee768",
   "metadata": {},
   "outputs": [
    {
     "data": {
      "text/html": [
       "<div>\n",
       "<style scoped>\n",
       "    .dataframe tbody tr th:only-of-type {\n",
       "        vertical-align: middle;\n",
       "    }\n",
       "\n",
       "    .dataframe tbody tr th {\n",
       "        vertical-align: top;\n",
       "    }\n",
       "\n",
       "    .dataframe thead th {\n",
       "        text-align: right;\n",
       "    }\n",
       "</style>\n",
       "<table border=\"1\" class=\"dataframe\">\n",
       "  <thead>\n",
       "    <tr style=\"text-align: right;\">\n",
       "      <th></th>\n",
       "      <th>carat</th>\n",
       "      <th>depth</th>\n",
       "      <th>table</th>\n",
       "      <th>price</th>\n",
       "      <th>x</th>\n",
       "      <th>y</th>\n",
       "      <th>z</th>\n",
       "    </tr>\n",
       "  </thead>\n",
       "  <tbody>\n",
       "    <tr>\n",
       "      <th>count</th>\n",
       "      <td>50000.000000</td>\n",
       "      <td>49529.000000</td>\n",
       "      <td>49610.000000</td>\n",
       "      <td>49747.000000</td>\n",
       "      <td>49779.000000</td>\n",
       "      <td>49667.000000</td>\n",
       "      <td>49572.000000</td>\n",
       "    </tr>\n",
       "    <tr>\n",
       "      <th>mean</th>\n",
       "      <td>0.906952</td>\n",
       "      <td>61.748402</td>\n",
       "      <td>57.464787</td>\n",
       "      <td>3938.803486</td>\n",
       "      <td>5.731776</td>\n",
       "      <td>5.733675</td>\n",
       "      <td>3.539514</td>\n",
       "    </tr>\n",
       "    <tr>\n",
       "      <th>std</th>\n",
       "      <td>2.069722</td>\n",
       "      <td>1.429476</td>\n",
       "      <td>2.242345</td>\n",
       "      <td>3994.643235</td>\n",
       "      <td>1.122125</td>\n",
       "      <td>1.119993</td>\n",
       "      <td>0.706533</td>\n",
       "    </tr>\n",
       "    <tr>\n",
       "      <th>min</th>\n",
       "      <td>0.200000</td>\n",
       "      <td>43.000000</td>\n",
       "      <td>43.000000</td>\n",
       "      <td>326.000000</td>\n",
       "      <td>0.000000</td>\n",
       "      <td>0.000000</td>\n",
       "      <td>0.000000</td>\n",
       "    </tr>\n",
       "    <tr>\n",
       "      <th>25%</th>\n",
       "      <td>0.400000</td>\n",
       "      <td>61.000000</td>\n",
       "      <td>56.000000</td>\n",
       "      <td>949.000000</td>\n",
       "      <td>4.710000</td>\n",
       "      <td>4.720000</td>\n",
       "      <td>2.910000</td>\n",
       "    </tr>\n",
       "    <tr>\n",
       "      <th>50%</th>\n",
       "      <td>0.700000</td>\n",
       "      <td>61.800000</td>\n",
       "      <td>57.000000</td>\n",
       "      <td>2401.000000</td>\n",
       "      <td>5.700000</td>\n",
       "      <td>5.710000</td>\n",
       "      <td>3.530000</td>\n",
       "    </tr>\n",
       "    <tr>\n",
       "      <th>75%</th>\n",
       "      <td>1.050000</td>\n",
       "      <td>62.500000</td>\n",
       "      <td>59.000000</td>\n",
       "      <td>5339.000000</td>\n",
       "      <td>6.540000</td>\n",
       "      <td>6.540000</td>\n",
       "      <td>4.040000</td>\n",
       "    </tr>\n",
       "    <tr>\n",
       "      <th>max</th>\n",
       "      <td>49.990359</td>\n",
       "      <td>79.000000</td>\n",
       "      <td>95.000000</td>\n",
       "      <td>18823.000000</td>\n",
       "      <td>10.230000</td>\n",
       "      <td>31.800000</td>\n",
       "      <td>31.800000</td>\n",
       "    </tr>\n",
       "  </tbody>\n",
       "</table>\n",
       "</div>"
      ],
      "text/plain": [
       "              carat         depth         table         price             x  \\\n",
       "count  50000.000000  49529.000000  49610.000000  49747.000000  49779.000000   \n",
       "mean       0.906952     61.748402     57.464787   3938.803486      5.731776   \n",
       "std        2.069722      1.429476      2.242345   3994.643235      1.122125   \n",
       "min        0.200000     43.000000     43.000000    326.000000      0.000000   \n",
       "25%        0.400000     61.000000     56.000000    949.000000      4.710000   \n",
       "50%        0.700000     61.800000     57.000000   2401.000000      5.700000   \n",
       "75%        1.050000     62.500000     59.000000   5339.000000      6.540000   \n",
       "max       49.990359     79.000000     95.000000  18823.000000     10.230000   \n",
       "\n",
       "                  y             z  \n",
       "count  49667.000000  49572.000000  \n",
       "mean       5.733675      3.539514  \n",
       "std        1.119993      0.706533  \n",
       "min        0.000000      0.000000  \n",
       "25%        4.720000      2.910000  \n",
       "50%        5.710000      3.530000  \n",
       "75%        6.540000      4.040000  \n",
       "max       31.800000     31.800000  "
      ]
     },
     "execution_count": 120,
     "metadata": {},
     "output_type": "execute_result"
    }
   ],
   "source": [
    "# Cek statistik deskriptif\n",
    "diamonds.describe()"
   ]
  },
  {
   "cell_type": "markdown",
   "id": "2f997110-c4a7-470d-97a7-2ed8e74952df",
   "metadata": {
    "tags": []
   },
   "source": [
    "## 2. Visualisasi Distribusi"
   ]
  },
  {
   "cell_type": "markdown",
   "id": "78c4a64a-96a7-497c-8f7c-14f4995c0c35",
   "metadata": {},
   "source": [
    "### 2.1. Histogram"
   ]
  },
  {
   "cell_type": "code",
   "execution_count": 126,
   "id": "2e52042e-65bb-4057-8fe4-1bdde605970d",
   "metadata": {},
   "outputs": [
    {
     "data": {
      "text/plain": [
       "<seaborn.axisgrid.FacetGrid at 0x7f82e23f04c0>"
      ]
     },
     "execution_count": 126,
     "metadata": {},
     "output_type": "execute_result"
    },
    {
     "data": {
      "image/png": "[encoded data removed]",
      "text/plain": [
       "<Figure size 360x360 with 1 Axes>"
      ]
     },
     "metadata": {},
     "output_type": "display_data"
    }
   ],
   "source": [
    "# Melihat distribusi nilai 'carat'\n",
    "sns.displot(diamonds, x='carat')"
   ]
  },
  {
   "cell_type": "markdown",
   "id": "9fcb19fd-0f38-4d12-b98a-16e4da04340e",
   "metadata": {},
   "source": [
    "Insight:\n",
    "Data merentang hingga carat bernilai 50, namun distribusi yang tampak hanya pada sekitar nilai 0 sampai 3. Ini menunjukkan adanya nilai ekstrem pada variabel carat"
   ]
  },
  {
   "cell_type": "code",
   "execution_count": 135,
   "id": "2f787907-625a-4da3-ac06-cd0ebd4cc2c1",
   "metadata": {},
   "outputs": [
    {
     "data": {
      "text/plain": [
       "<seaborn.axisgrid.FacetGrid at 0x7f82b29d7490>"
      ]
     },
     "execution_count": 135,
     "metadata": {},
     "output_type": "execute_result"
    },
    {
     "data": {
      "image/png": "[encoded data removed]",
      "text/plain": [
       "<Figure size 360x360 with 1 Axes>"
      ]
     },
     "metadata": {},
     "output_type": "display_data"
    }
   ],
   "source": [
    "# Melakukan zoom-in (melimit sumbu x)\n",
    "smaller_carat=diamonds['carat']<=3\n",
    "sns.displot(diamonds[smaller_carat], x='carat')"
   ]
  },
  {
   "cell_type": "markdown",
   "id": "d5f99ee5-b522-49ab-84c9-690e47db3bdb",
   "metadata": {},
   "source": [
    "Insight: Secara aneh, distribusi nilai carat selalu memiliki frekeunsi tinggi pada nilai carat kelipatan 0.5 dan terus menurun sebelum kelipata 0.5 selanjutnya."
   ]
  },
  {
   "cell_type": "markdown",
   "id": "595c84b8-a38f-44d5-a443-7ec87ad288b7",
   "metadata": {},
   "source": [
    "### 2.2. Pengaturan bins"
   ]
  },
  {
   "cell_type": "code",
   "execution_count": 128,
   "id": "415a92ca-ace9-4e7b-90e9-42d48c954e7a",
   "metadata": {},
   "outputs": [
    {
     "data": {
      "text/plain": [
       "<seaborn.axisgrid.FacetGrid at 0x7f82e3e0ee80>"
      ]
     },
     "execution_count": 128,
     "metadata": {},
     "output_type": "execute_result"
    },
    {
     "data": {
      "image/png": "[encoded data removed]",
      "text/plain": [
       "<Figure size 360x360 with 1 Axes>"
      ]
     },
     "metadata": {},
     "output_type": "display_data"
    }
   ],
   "source": [
    "# Mengatur binwidth\n",
    "sns.displot(diamonds[smaller], x='carat', binwidth=0.01)"
   ]
  },
  {
   "cell_type": "markdown",
   "id": "8c8bb65d-de82-4724-b7c8-dde2975cbc1f",
   "metadata": {},
   "source": [
    "Insight: Pada rentang bindwidth yang diperkecil dugaan sebelumnya makin terlihat jelas. Pada kelipatan tertentu frekuensi carat lebih tinggi ketimbang lainnya. Misal berlian dengan nilai carat 1 lebih banyak dari berlian dengan nilai carat 0.9"
   ]
  },
  {
   "cell_type": "code",
   "execution_count": 129,
   "id": "2ebf25b7-375d-4a10-b86d-1e93931fca2d",
   "metadata": {},
   "outputs": [
    {
     "data": {
      "text/plain": [
       "<seaborn.axisgrid.FacetGrid at 0x7f82e2eaf550>"
      ]
     },
     "execution_count": 129,
     "metadata": {},
     "output_type": "execute_result"
    },
    {
     "data": {
      "image/png": "[encoded data removed]",
      "text/plain": [
       "<Figure size 360x360 with 1 Axes>"
      ]
     },
     "metadata": {},
     "output_type": "display_data"
    }
   ],
   "source": [
    "# Mengatur jumlah bin\n",
    "sns.displot(diamonds[smaller], x='carat', bins=20)"
   ]
  },
  {
   "cell_type": "markdown",
   "id": "e42d2297-af59-465c-bd76-516e5d084f93",
   "metadata": {},
   "source": [
    "Insight: Tidak banyak informasi baru. Secara general, semakin tinggi nilai carat, semakin sedikit pula frekuensinya."
   ]
  },
  {
   "cell_type": "markdown",
   "id": "e3396ad8-5a60-4a6d-8cff-ef95f1b7a5ab",
   "metadata": {
    "tags": []
   },
   "source": [
    "## 3. Visualisasi Data Kategorik"
   ]
  },
  {
   "cell_type": "markdown",
   "id": "b7e28944-65b0-4c63-ac14-57f3f7beefac",
   "metadata": {},
   "source": [
    "### 3.1. Visualisasi Distribusi Data Kategorik"
   ]
  },
  {
   "cell_type": "code",
   "execution_count": 121,
   "id": "8302aa22-e990-42c9-a22f-524f6f431ea8",
   "metadata": {},
   "outputs": [
    {
     "data": {
      "text/plain": [
       "<seaborn.axisgrid.FacetGrid at 0x7f82c434a400>"
      ]
     },
     "execution_count": 121,
     "metadata": {},
     "output_type": "execute_result"
    },
    {
     "data": {
      "image/png": "[encoded data removed]",
      "text/plain": [
       "<Figure size 360x360 with 1 Axes>"
      ]
     },
     "metadata": {},
     "output_type": "display_data"
    }
   ],
   "source": [
    "# Mengetahui jumlah berlian berdasarkan 'cut'\n",
    "sns.catplot(data=diamonds, x='cut', kind='count')"
   ]
  },
  {
   "cell_type": "code",
   "execution_count": 122,
   "id": "0b47372b-24ba-46e9-8fba-eb4e680bd612",
   "metadata": {},
   "outputs": [
    {
     "data": {
      "text/plain": [
       "<seaborn.axisgrid.FacetGrid at 0x7f82c432beb0>"
      ]
     },
     "execution_count": 122,
     "metadata": {},
     "output_type": "execute_result"
    },
    {
     "data": {
      "image/png": "[encoded data removed]",
      "text/plain": [
       "<Figure size 360x360 with 1 Axes>"
      ]
     },
     "metadata": {},
     "output_type": "display_data"
    }
   ],
   "source": [
    "# Mengetahui jumlah berlian berdasarkan 'cut'\n",
    "sns.catplot(data=diamonds, y='cut', kind='count')"
   ]
  },
  {
   "cell_type": "code",
   "execution_count": 123,
   "id": "ef7bf842-e944-4d3f-bca7-1ee6aed6ca48",
   "metadata": {},
   "outputs": [
    {
     "data": {
      "text/plain": [
       "<seaborn.axisgrid.FacetGrid at 0x7f82b10a45e0>"
      ]
     },
     "execution_count": 123,
     "metadata": {},
     "output_type": "execute_result"
    },
    {
     "data": {
      "image/png": "[encoded data removed]",
      "text/plain": [
       "<Figure size 360x360 with 1 Axes>"
      ]
     },
     "metadata": {},
     "output_type": "display_data"
    }
   ],
   "source": [
    "# Mengatur urutan kategori 'cut'\n",
    "order=['Fair', 'Good', 'Very Good', 'Premium', 'Ideal']\n",
    "sns.catplot(data=diamonds, y='cut', kind='count', order=order)"
   ]
  },
  {
   "cell_type": "markdown",
   "id": "56c3f9fd-de76-4b96-8070-c5e9c2294045",
   "metadata": {},
   "source": [
    "### 3.2. Visualisasi Estimasi Data Kategorik"
   ]
  },
  {
   "cell_type": "code",
   "execution_count": 124,
   "id": "fd3bb528-bf2c-4a6e-99d5-df76d41d02e5",
   "metadata": {},
   "outputs": [
    {
     "data": {
      "text/plain": [
       "<seaborn.axisgrid.FacetGrid at 0x7f82e241dfd0>"
      ]
     },
     "execution_count": 124,
     "metadata": {},
     "output_type": "execute_result"
    },
    {
     "data": {
      "image/png": "[encoded data removed]",
      "text/plain": [
       "<Figure size 360x360 with 1 Axes>"
      ]
     },
     "metadata": {},
     "output_type": "display_data"
    }
   ],
   "source": [
    "# Estimasi harga berlian berdasarkan 'cut' dengan boxplot\n",
    "sns.catplot(data=diamonds, x='cut', y='price', kind='box', order=order)"
   ]
  },
  {
   "cell_type": "code",
   "execution_count": 125,
   "id": "878302d0-1c0b-4330-9a34-cb147531d84b",
   "metadata": {},
   "outputs": [
    {
     "data": {
      "text/plain": [
       "<seaborn.axisgrid.FacetGrid at 0x7f82e23f01c0>"
      ]
     },
     "execution_count": 125,
     "metadata": {},
     "output_type": "execute_result"
    },
    {
     "data": {
      "image/png": "[encoded data removed]",
      "text/plain": [
       "<Figure size 360x360 with 1 Axes>"
      ]
     },
     "metadata": {},
     "output_type": "display_data"
    }
   ],
   "source": [
    "# Mengatur whisker boxplot\n",
    "sns.catplot(data=diamonds, x='cut', y='price', kind='box', order=order, whis=[5, 95])"
   ]
  }
 ],
 "metadata": {
  "kernelspec": {
   "display_name": "Python 3 (ipykernel)",
   "language": "python",
   "name": "python3"
  },
  "language_info": {
   "codemirror_mode": {
    "name": "ipython",
    "version": 3
   },
   "file_extension": ".py",
   "mimetype": "text/x-python",
   "name": "python",
   "nbconvert_exporter": "python",
   "pygments_lexer": "ipython3",
   "version": "3.9.7"
  },
  "widgets": {
   "application/vnd.jupyter.widget-state+json": {
    "state": {},
    "version_major": 2,
    "version_minor": 0
   }
  }
 },
 "nbformat": 4,
 "nbformat_minor": 5
}
