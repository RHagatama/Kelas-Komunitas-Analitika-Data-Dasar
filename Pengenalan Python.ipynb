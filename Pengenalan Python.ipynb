{
 "cells": [
  {
   "cell_type": "markdown",
   "id": "6c81d287",
   "metadata": {},
   "source": [
    "# Tipe Data"
   ]
  },
  {
   "cell_type": "code",
   "execution_count": 1,
   "id": "62e7fdd4",
   "metadata": {},
   "outputs": [
    {
     "data": {
      "text/plain": [
       "int"
      ]
     },
     "execution_count": 1,
     "metadata": {},
     "output_type": "execute_result"
    }
   ],
   "source": [
    "type(11)"
   ]
  },
  {
   "cell_type": "code",
   "execution_count": 2,
   "id": "1fd77e79",
   "metadata": {},
   "outputs": [
    {
     "data": {
      "text/plain": [
       "float"
      ]
     },
     "execution_count": 2,
     "metadata": {},
     "output_type": "execute_result"
    }
   ],
   "source": [
    "type(21.32)"
   ]
  },
  {
   "cell_type": "code",
   "execution_count": 3,
   "id": "642037ef",
   "metadata": {},
   "outputs": [
    {
     "data": {
      "text/plain": [
       "str"
      ]
     },
     "execution_count": 3,
     "metadata": {},
     "output_type": "execute_result"
    }
   ],
   "source": [
    "type('Hello World')"
   ]
  },
  {
   "cell_type": "code",
   "execution_count": 4,
   "id": "b00b20a8",
   "metadata": {},
   "outputs": [],
   "source": [
    "a = 1000\n",
    "b = 3.14\n",
    "c = \"aku anak sholeh\""
   ]
  },
  {
   "cell_type": "code",
   "execution_count": 6,
   "id": "65b4751a",
   "metadata": {
    "scrolled": true
   },
   "outputs": [
    {
     "name": "stdout",
     "output_type": "stream",
     "text": [
      "<class 'int'>\n",
      "<class 'float'>\n",
      "<class 'str'>\n"
     ]
    }
   ],
   "source": [
    "print(type(a))\n",
    "print(type(b))\n",
    "print(type(c))"
   ]
  },
  {
   "cell_type": "markdown",
   "id": "a1ecb461",
   "metadata": {},
   "source": [
    "# Konversi Tipe Data"
   ]
  },
  {
   "cell_type": "code",
   "execution_count": 13,
   "id": "57f11923",
   "metadata": {},
   "outputs": [
    {
     "name": "stdout",
     "output_type": "stream",
     "text": [
      "1000\n",
      "1000.0\n",
      "3\n",
      "3.14\n",
      "100\n",
      "100.0\n"
     ]
    }
   ],
   "source": [
    "# Integer ke string\n",
    "print(str(a))\n",
    "\n",
    "# Integer ke float\n",
    "print(float(a))\n",
    "\n",
    "# Float ke integer\n",
    "print(int(b))\n",
    "\n",
    "# Float ke string\n",
    "print(str(b))\n",
    "\n",
    "# String ke integer\n",
    "print(int('100'))\n",
    "\n",
    "# String ke float\n",
    "print(float('100'))"
   ]
  },
  {
   "cell_type": "markdown",
   "id": "909c4ccf",
   "metadata": {},
   "source": [
    "# Tipe Data Boolean"
   ]
  },
  {
   "cell_type": "code",
   "execution_count": 14,
   "id": "58fc6640",
   "metadata": {},
   "outputs": [
    {
     "name": "stdout",
     "output_type": "stream",
     "text": [
      "<class 'bool'>\n",
      "<class 'bool'>\n"
     ]
    }
   ],
   "source": [
    "print(type(True))\n",
    "print(type(False))"
   ]
  },
  {
   "cell_type": "code",
   "execution_count": 15,
   "id": "2bb74a49",
   "metadata": {},
   "outputs": [
    {
     "name": "stdout",
     "output_type": "stream",
     "text": [
      "1\n",
      "1.0\n"
     ]
    }
   ],
   "source": [
    "# Konversi tipe data bool\n",
    "print(int(True))\n",
    "print(float(True))"
   ]
  },
  {
   "cell_type": "markdown",
   "id": "6892165e",
   "metadata": {},
   "source": [
    "# Ekspresi"
   ]
  },
  {
   "cell_type": "code",
   "execution_count": 23,
   "id": "e4e86ecc",
   "metadata": {},
   "outputs": [
    {
     "name": "stdout",
     "output_type": "stream",
     "text": [
      "3\n",
      "1\n",
      "8\n",
      "2.0\n",
      "1\n",
      "3\n",
      "49\n",
      "7.0\n"
     ]
    }
   ],
   "source": [
    "# Penjumlahan\n",
    "print(2 + 1)\n",
    "\n",
    "# Pengurangan\n",
    "print(2 - 1)\n",
    "\n",
    "# Perkalian\n",
    "print(2 * 4)\n",
    "\n",
    "# Pembagian\n",
    "print(4 / 2)\n",
    "\n",
    "# Remainder\n",
    "print(7 // 4)\n",
    "\n",
    "# Modulo\n",
    "print(7 % 4)\n",
    "\n",
    "# Pangkat\n",
    "print(7 ** 2)\n",
    "\n",
    "# Akar\n",
    "print(49 ** (1/2)) "
   ]
  },
  {
   "cell_type": "markdown",
   "id": "b75c3744",
   "metadata": {},
   "source": [
    "# Variable Assignment"
   ]
  },
  {
   "cell_type": "code",
   "execution_count": 25,
   "id": "2d414e81",
   "metadata": {},
   "outputs": [
    {
     "name": "stdout",
     "output_type": "stream",
     "text": [
      "5\n"
     ]
    }
   ],
   "source": [
    "# Memuat variabel\n",
    "a = 5\n",
    "print(a)"
   ]
  },
  {
   "cell_type": "code",
   "execution_count": 28,
   "id": "08e321da",
   "metadata": {},
   "outputs": [
    {
     "name": "stdout",
     "output_type": "stream",
     "text": [
      "11\n"
     ]
    }
   ],
   "source": [
    "# reassign\n",
    "a = 11\n",
    "print(a)"
   ]
  },
  {
   "cell_type": "code",
   "execution_count": 29,
   "id": "e25c2e17",
   "metadata": {},
   "outputs": [
    {
     "name": "stdout",
     "output_type": "stream",
     "text": [
      "33\n"
     ]
    }
   ],
   "source": [
    "# Operasi aritmatik menggunakan\n",
    "print(a * 3)"
   ]
  },
  {
   "cell_type": "code",
   "execution_count": 30,
   "id": "40666ac6",
   "metadata": {},
   "outputs": [
    {
     "name": "stdout",
     "output_type": "stream",
     "text": [
      "120\n"
     ]
    }
   ],
   "source": [
    "# Contoh\n",
    "panjang = 12\n",
    "lebar = 10\n",
    "luas = panjang * lebar\n",
    "\n",
    "print(luas)"
   ]
  },
  {
   "cell_type": "code",
   "execution_count": 32,
   "id": "b91203a9",
   "metadata": {},
   "outputs": [
    {
     "name": "stdout",
     "output_type": "stream",
     "text": [
      "220000.0\n",
      "1780000.0\n"
     ]
    }
   ],
   "source": [
    "# Challenge\n",
    "# Jika penghasilan sama dengan 2 juta dan pajak sama dengan 11 persen, hitung berapa pajak yang harus dikeluarkan\n",
    "# Hitung sisa penghasilan\n",
    "\n",
    "penghasilan = 2000000\n",
    "rate_pajak = 0.11\n",
    "\n",
    "nilai_pajak = penghasilan * rate_pajak\n",
    "penghasilan_setelah_pajak = penghasilan - nilai_pajak\n",
    "\n",
    "print(nilai_pajak)\n",
    "print(penghasilan_setelah_pajak)"
   ]
  },
  {
   "cell_type": "markdown",
   "id": "8497c581",
   "metadata": {},
   "source": [
    "# Manipulasi String"
   ]
  },
  {
   "cell_type": "code",
   "execution_count": 35,
   "id": "2b514923",
   "metadata": {},
   "outputs": [
    {
     "name": "stdout",
     "output_type": "stream",
     "text": [
      "Hello world!\n"
     ]
    }
   ],
   "source": [
    "# Mendefinisikan String\n",
    "print('Hello world!')"
   ]
  },
  {
   "cell_type": "code",
   "execution_count": 40,
   "id": "ab1c2a8f",
   "metadata": {
    "scrolled": true
   },
   "outputs": [
    {
     "name": "stdout",
     "output_type": "stream",
     "text": [
      "H\n",
      "Hello\n",
      "World!\n"
     ]
    }
   ],
   "source": [
    "# Mengindeks string\n",
    "kata = 'Hello World!'\n",
    "\n",
    "# Mengakses huruf pertama\n",
    "print(kata[0])\n",
    "\n",
    "# Mengakses kata 'Hello'\n",
    "print(kata[:5])\n",
    "\n",
    "# Mengakses kata 'World!'\n",
    "print(kata[-6:])"
   ]
  },
  {
   "cell_type": "code",
   "execution_count": 46,
   "id": "641e57f0",
   "metadata": {},
   "outputs": [
    {
     "name": "stdout",
     "output_type": "stream",
     "text": [
      "Binsar\n",
      "Binsar\n"
     ]
    }
   ],
   "source": [
    "# Akses kata kedua dari nama berikut\n",
    "nama = 'Luhut Binsar Pandjaitan'\n",
    "\n",
    "print(nama[6:12])\n",
    "print(nama.split()[1])"
   ]
  },
  {
   "cell_type": "code",
   "execution_count": 50,
   "id": "859b6dc5",
   "metadata": {},
   "outputs": [
    {
     "name": "stdout",
     "output_type": "stream",
     "text": [
      "I LOVE YOU\n",
      "i love you\n",
      "I Love You\n"
     ]
    }
   ],
   "source": [
    "# Method dalam string\n",
    "kalimat = \"I love you\"\n",
    "\n",
    "# Membuat semua karakter menjadi kapital\n",
    "print(kalimat.upper())\n",
    "\n",
    "# Membuat semua karakter menjadi huruf kecil\n",
    "print(kalimat.lower())\n",
    "\n",
    "# Membuat karakter pertama setiap kata menjadi kapital\n",
    "print(kalimat.title())\n",
    "\n",
    "# Mengekstrak setiap kata"
   ]
  },
  {
   "cell_type": "markdown",
   "id": "55adf2b4-caf2-4dc5-8f07-862efabf6f9d",
   "metadata": {},
   "source": [
    "# Data Collection"
   ]
  },
  {
   "cell_type": "markdown",
   "id": "833a7685-8267-4dbd-b36a-3e836f0fff83",
   "metadata": {},
   "source": [
    "## List"
   ]
  },
  {
   "cell_type": "code",
   "execution_count": 4,
   "id": "57f3a385-8c15-417e-b09a-004948865a48",
   "metadata": {},
   "outputs": [
    {
     "name": "stdout",
     "output_type": "stream",
     "text": [
      "['Ponorogo', 14.9, 1993, True]\n",
      "4\n"
     ]
    }
   ],
   "source": [
    "# Membuat lisr\n",
    "ttl = ['Ponorogo', 14.9, 1993, True]\n",
    "print(ttl)\n",
    "\n",
    "# Menghitung jumlah elemen dalam list\n",
    "print(len(ttl))"
   ]
  },
  {
   "cell_type": "code",
   "execution_count": 7,
   "id": "2308e059-ce40-4b49-a43e-6da552869f47",
   "metadata": {},
   "outputs": [
    {
     "data": {
      "text/plain": [
       "[1993, True]"
      ]
     },
     "execution_count": 7,
     "metadata": {},
     "output_type": "execute_result"
    }
   ],
   "source": [
    "# Mengakses elemen list pertama\n",
    "ttl[0]\n",
    "\n",
    "# Mengakses element kedua dan ketiga\n",
    "ttl[2:4]"
   ]
  },
  {
   "cell_type": "code",
   "execution_count": null,
   "id": "02638ed0-3701-41cc-b4d2-0bbc55785716",
   "metadata": {},
   "outputs": [],
   "source": []
  }
 ],
 "metadata": {
  "kernelspec": {
   "display_name": "Python 3 (ipykernel)",
   "language": "python",
   "name": "python3"
  },
  "language_info": {
   "codemirror_mode": {
    "name": "ipython",
    "version": 3
   },
   "file_extension": ".py",
   "mimetype": "text/x-python",
   "name": "python",
   "nbconvert_exporter": "python",
   "pygments_lexer": "ipython3",
   "version": "3.9.7"
  },
  "widgets": {
   "application/vnd.jupyter.widget-state+json": {
    "state": {},
    "version_major": 2,
    "version_minor": 0
   }
  }
 },
 "nbformat": 4,
 "nbformat_minor": 5
}
