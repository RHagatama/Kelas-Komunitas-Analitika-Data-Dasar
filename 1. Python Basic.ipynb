{
 "cells": [
  {
   "cell_type": "markdown",
   "id": "ac6c57f8-ea27-4dc6-be1e-8c5c2bda7b57",
   "metadata": {},
   "source": [
    "# Python Basic"
   ]
  },
  {
   "cell_type": "markdown",
   "id": "fd55b00e-b4e3-449e-93a2-5dd6b941cb45",
   "metadata": {},
   "source": [
    "## 1. Tipe Data"
   ]
  },
  {
   "cell_type": "markdown",
   "id": "1767b220-c622-44a9-9740-a21e0154da8a",
   "metadata": {},
   "source": [
    "### 1.1. Data Dasar"
   ]
  },
  {
   "cell_type": "code",
   "execution_count": 41,
   "id": "1a33fd62-7ac9-47da-80c5-f23a2c9dd2c0",
   "metadata": {},
   "outputs": [
    {
     "name": "stdout",
     "output_type": "stream",
     "text": [
      "Halo Python!\n",
      "149\n",
      "14.9\n",
      "True\n"
     ]
    }
   ],
   "source": [
    "# Halo Python\n",
    "print('Halo Python!')\n",
    "print(149)\n",
    "print(14.9)\n",
    "print(True)"
   ]
  },
  {
   "cell_type": "code",
   "execution_count": 44,
   "id": "4de37fe7-6033-48c1-ba8a-4d51d8a6083e",
   "metadata": {},
   "outputs": [
    {
     "name": "stdout",
     "output_type": "stream",
     "text": [
      "<class 'str'>\n",
      "<class 'int'>\n",
      "<class 'float'>\n",
      "<class 'bool'>\n"
     ]
    }
   ],
   "source": [
    "# Cek tipe data\n",
    "print(type('Halo Python!'))\n",
    "print(type(149))\n",
    "print(type(14.9))\n",
    "print(type(True))"
   ]
  },
  {
   "cell_type": "markdown",
   "id": "da2eaf15-d67b-4b8e-9ab2-c915bc7817cd",
   "metadata": {
    "tags": []
   },
   "source": [
    "### 1.2. List"
   ]
  },
  {
   "cell_type": "code",
   "execution_count": 55,
   "id": "dddb7145-cb82-4585-ad9e-be4749656f3a",
   "metadata": {},
   "outputs": [
    {
     "data": {
      "text/plain": [
       "['Halo Python', 149, 14.9, True]"
      ]
     },
     "execution_count": 55,
     "metadata": {},
     "output_type": "execute_result"
    }
   ],
   "source": [
    "# Membuat list\n",
    "my_list = ['Halo Python', 149, 14.9, True]\n",
    "my_list"
   ]
  },
  {
   "cell_type": "code",
   "execution_count": 45,
   "id": "fe0c2c70-3e24-4bc0-8051-77500a413265",
   "metadata": {},
   "outputs": [
    {
     "data": {
      "text/plain": [
       "list"
      ]
     },
     "execution_count": 45,
     "metadata": {},
     "output_type": "execute_result"
    }
   ],
   "source": [
    "# Cek tipe data\n",
    "type(my_list)"
   ]
  },
  {
   "cell_type": "code",
   "execution_count": 46,
   "id": "c5cb9399-c6bd-4c81-9858-45b0be3593dd",
   "metadata": {},
   "outputs": [
    {
     "data": {
      "text/plain": [
       "14.9"
      ]
     },
     "execution_count": 46,
     "metadata": {},
     "output_type": "execute_result"
    }
   ],
   "source": [
    "# Mengakses elemen list\n",
    "my_list[2]"
   ]
  },
  {
   "cell_type": "markdown",
   "id": "d64da130-1323-433a-8838-e331012b940d",
   "metadata": {},
   "source": [
    "### 1.3. Dictionary"
   ]
  },
  {
   "cell_type": "code",
   "execution_count": 57,
   "id": "dc725dac-9722-460c-90c9-c4f0fb20e094",
   "metadata": {},
   "outputs": [
    {
     "data": {
      "text/plain": [
       "{'Adi': 90, 'Budi': 85, 'Cindy': 77, 'Didi': 80, 'Entin': 100}"
      ]
     },
     "execution_count": 57,
     "metadata": {},
     "output_type": "execute_result"
    }
   ],
   "source": [
    "# Membuat Dictionary\n",
    "my_dict = {\n",
    "    'Adi':90,\n",
    "    'Budi':85,\n",
    "    'Cindy':77,\n",
    "    'Didi':80,\n",
    "    'Entin':100\n",
    "}\n",
    "\n",
    "my_dict"
   ]
  },
  {
   "cell_type": "code",
   "execution_count": 58,
   "id": "954ee9a2-73c4-419b-8213-8708018cac7e",
   "metadata": {},
   "outputs": [
    {
     "data": {
      "text/plain": [
       "dict"
      ]
     },
     "execution_count": 58,
     "metadata": {},
     "output_type": "execute_result"
    }
   ],
   "source": [
    "# Cek tipe data\n",
    "type(my_dict)"
   ]
  },
  {
   "cell_type": "code",
   "execution_count": 60,
   "id": "6f31213e-2d12-4473-a922-2dd6801ad032",
   "metadata": {},
   "outputs": [
    {
     "data": {
      "text/plain": [
       "100"
      ]
     },
     "execution_count": 60,
     "metadata": {},
     "output_type": "execute_result"
    }
   ],
   "source": [
    "# Mengakses elemen dictionary\n",
    "my_dict['Entin']"
   ]
  },
  {
   "cell_type": "markdown",
   "id": "ef11ee0c-82fe-4ee2-98bf-f571f654f812",
   "metadata": {},
   "source": [
    "### 1.3. Dictionary"
   ]
  },
  {
   "cell_type": "code",
   "execution_count": 49,
   "id": "fa1c2876-8fec-459c-9c21-2d38a8b2a6d0",
   "metadata": {},
   "outputs": [
    {
     "data": {
      "text/plain": [
       "{'Adi': 90, 'Budi': 85, 'Cindy': 77, 'Didi': 80, 'Entin': 100}"
      ]
     },
     "execution_count": 49,
     "metadata": {},
     "output_type": "execute_result"
    }
   ],
   "source": [
    "# Membuat dictionary\n",
    "my_dict = {\n",
    "    'Adi':90,\n",
    "    'Budi':85,\n",
    "    'Cindy':77,\n",
    "    'Didi':80,\n",
    "    'Entin':100\n",
    "}\n",
    "\n",
    "my_dict"
   ]
  },
  {
   "cell_type": "code",
   "execution_count": 51,
   "id": "404ec1e5-134a-4f84-828e-6b3924666db7",
   "metadata": {},
   "outputs": [
    {
     "data": {
      "text/plain": [
       "dict"
      ]
     },
     "execution_count": 51,
     "metadata": {},
     "output_type": "execute_result"
    }
   ],
   "source": [
    "# Cek tipe data\n",
    "type(my_dict)"
   ]
  },
  {
   "cell_type": "code",
   "execution_count": 52,
   "id": "ec6379cc-9eaa-4262-95f1-e51bba754bad",
   "metadata": {},
   "outputs": [
    {
     "data": {
      "text/plain": [
       "100"
      ]
     },
     "execution_count": 52,
     "metadata": {},
     "output_type": "execute_result"
    }
   ],
   "source": [
    "# Mengakses elemen dictionary\n",
    "my_dict['Entin']"
   ]
  },
  {
   "cell_type": "markdown",
   "id": "c320b74f-e9b4-4824-ad1b-823ab1e218e2",
   "metadata": {},
   "source": [
    "## 2. Percabangan, Perulangan, dan Fungsi"
   ]
  },
  {
   "cell_type": "markdown",
   "id": "dbb6ace1-1082-4d84-949c-62b449a4bf50",
   "metadata": {},
   "source": [
    "### 2.1. Operator"
   ]
  },
  {
   "cell_type": "markdown",
   "id": "40c0b890-7771-4012-91ad-3ebe6108a30c",
   "metadata": {},
   "source": [
    "| Operator | Keterangan |\n",
    "| --- | --- |\n",
    "| == | Sama dengan |\n",
    "| != | Tidak sama dengan |\n",
    "| < | Kurang dari |\n",
    "| <= | Kurang dari sama dengan |\n",
    "| > | Lebih dari |\n",
    "| >= | Lebih dari sama dengan |\n",
    "| & | Dan |\n",
    "| \\| | Atau |\n",
    "| ~ | Bukan |"
   ]
  },
  {
   "cell_type": "markdown",
   "id": "7012faef-84cf-43aa-848d-4705d43cc4a0",
   "metadata": {
    "tags": []
   },
   "source": [
    "### 2.2. Percabangan (if else)"
   ]
  },
  {
   "cell_type": "code",
   "execution_count": 62,
   "id": "d50a0a2b-4dbf-4bb8-95c1-a96dfe100029",
   "metadata": {},
   "outputs": [
    {
     "name": "stdout",
     "output_type": "stream",
     "text": [
      "Selamat hasil anda sangat memuaskan\n"
     ]
    }
   ],
   "source": [
    "# Memprogram ekspresi berdasarkan skor\n",
    "skor = 90\n",
    "\n",
    "if skor > 80:\n",
    "    print('Selamat hasil anda sangat memuaskan')\n",
    "elif skor > 60:\n",
    "    print('Selamat skor anda telah memenuhi standar')\n",
    "else:\n",
    "    print('Tetap semangat')"
   ]
  },
  {
   "cell_type": "markdown",
   "id": "d03f471a-5b23-4bf5-a4e7-66776c95d8fb",
   "metadata": {
    "tags": []
   },
   "source": [
    "### 2.3. Perulangan/Iterasi (Looping)"
   ]
  },
  {
   "cell_type": "code",
   "execution_count": 63,
   "id": "9ee58847-1569-4630-a3bb-936a229e9cbc",
   "metadata": {},
   "outputs": [
    {
     "name": "stdout",
     "output_type": "stream",
     "text": [
      "Andi belajar Python\n",
      "Budi belajar Python\n",
      "Cindy belajar Python\n",
      "Didi belajar Python\n",
      "Entin belajar Python\n"
     ]
    }
   ],
   "source": [
    "# Perulangan berbasis index\n",
    "siswa = ['Andi', 'Budi', 'Cindy', 'Didi', 'Entin']\n",
    "\n",
    "for i in siswa:\n",
    "    print('{} belajar Python'.format(i))"
   ]
  },
  {
   "cell_type": "code",
   "execution_count": 65,
   "id": "f423e1d3-58b3-4208-a650-cb6b6f934b35",
   "metadata": {},
   "outputs": [
    {
     "name": "stdout",
     "output_type": "stream",
     "text": [
      "20\n",
      "40\n",
      "60\n",
      "80\n",
      "100\n"
     ]
    }
   ],
   "source": [
    "# Perulangan berbasis kondisi\n",
    "tabungan = 0\n",
    "\n",
    "while tabungan < 100:\n",
    "    tabungan = tabungan + 20\n",
    "    print(tabungan)"
   ]
  },
  {
   "cell_type": "markdown",
   "id": "230a8d18-7cfe-451a-8b34-f808868ce1ef",
   "metadata": {
    "tags": []
   },
   "source": [
    "### 2.4. Mendefinisikan fungsi"
   ]
  },
  {
   "cell_type": "code",
   "execution_count": 70,
   "id": "e9c734e4-4845-4c58-b4f6-f27cd9bf55b8",
   "metadata": {},
   "outputs": [
    {
     "data": {
      "text/plain": [
       "21000.0"
      ]
     },
     "execution_count": 70,
     "metadata": {},
     "output_type": "execute_result"
    }
   ],
   "source": [
    "# Membuat fungsi\n",
    "def pakai_diskon(harga, diskon):\n",
    "    harga_setelah_diskon = harga * (1 - diskon)\n",
    "    return harga_setelah_diskon\n",
    "\n",
    "# Menggunakan fungsi\n",
    "pakai_diskon(30000, 0.3)"
   ]
  },
  {
   "cell_type": "markdown",
   "id": "3220bbfe-ea5a-439f-823b-d58a3c748863",
   "metadata": {
    "tags": []
   },
   "source": [
    "## 3. Fungsi"
   ]
  },
  {
   "cell_type": "markdown",
   "id": "3e61e941-f354-41ab-a043-957c38d5854a",
   "metadata": {},
   "source": [
    "### 3.1. Fungsi Built-in"
   ]
  },
  {
   "cell_type": "code",
   "execution_count": 53,
   "id": "0e77aca8-6af7-42ee-835f-3bcd0012c37b",
   "metadata": {},
   "outputs": [
    {
     "data": {
      "text/plain": [
       "3"
      ]
     },
     "execution_count": 53,
     "metadata": {},
     "output_type": "execute_result"
    }
   ],
   "source": [
    "# Pembulatan dengan round()\n",
    "round(3.14)"
   ]
  },
  {
   "cell_type": "code",
   "execution_count": 54,
   "id": "b008164e-355d-4901-8bce-76067832c11d",
   "metadata": {},
   "outputs": [
    {
     "data": {
      "text/plain": [
       "5"
      ]
     },
     "execution_count": 54,
     "metadata": {},
     "output_type": "execute_result"
    }
   ],
   "source": [
    "# Menghitung jumlah elemen list dengan len()\n",
    "nama = ['Adi', 'Budi', 'Cindy', 'Didi', 'Entin']\n",
    "len(nama)"
   ]
  },
  {
   "cell_type": "markdown",
   "id": "302803db-bd60-4d9b-904b-0cdc439ed360",
   "metadata": {},
   "source": [
    "### 3.2. Fungsi Method"
   ]
  },
  {
   "cell_type": "code",
   "execution_count": 16,
   "id": "7d2b379d-fb09-4eb2-9686-65a11564376f",
   "metadata": {},
   "outputs": [
    {
     "data": {
      "text/plain": [
       "'You can do it!!'"
      ]
     },
     "execution_count": 16,
     "metadata": {},
     "output_type": "execute_result"
    }
   ],
   "source": [
    "# .capitalize pada string\n",
    "kalimat = 'you can do it!!'\n",
    "kalimat.capitalize()"
   ]
  },
  {
   "cell_type": "code",
   "execution_count": 17,
   "id": "7b8930fb-bc25-4adb-baf0-5f63690e04ca",
   "metadata": {},
   "outputs": [
    {
     "data": {
      "text/plain": [
       "2"
      ]
     },
     "execution_count": 17,
     "metadata": {},
     "output_type": "execute_result"
    }
   ],
   "source": [
    "# .index pada list\n",
    "nilai = [78, 90, 72, 88, 96]\n",
    "nilai.index(72)"
   ]
  },
  {
   "cell_type": "markdown",
   "id": "100ee94d-f2aa-4454-9c8b-db0f7d0a55b9",
   "metadata": {},
   "source": [
    "### 3.3. Fungsi dari Package/Library"
   ]
  },
  {
   "cell_type": "code",
   "execution_count": 23,
   "id": "1d757863-fb02-47b5-a7fd-6edf52e3d04b",
   "metadata": {},
   "outputs": [],
   "source": [
    "# Memuat library\n",
    "import numpy as np"
   ]
  },
  {
   "cell_type": "code",
   "execution_count": 21,
   "id": "aedd4d97-5f04-45c4-a9ed-5c8820c102a8",
   "metadata": {},
   "outputs": [
    {
     "data": {
      "text/plain": [
       "numpy.ndarray"
      ]
     },
     "execution_count": 21,
     "metadata": {},
     "output_type": "execute_result"
    }
   ],
   "source": [
    "# Mengubah list dengan data bertipe seragam ke numpy array\n",
    "np_nilai = np.array(nilai)\n",
    "type(np_nilai)"
   ]
  },
  {
   "cell_type": "code",
   "execution_count": 22,
   "id": "a21c87d0-30fc-4b39-a44a-1ea7106b980c",
   "metadata": {},
   "outputs": [
    {
     "data": {
      "text/plain": [
       "84.8"
      ]
     },
     "execution_count": 22,
     "metadata": {},
     "output_type": "execute_result"
    }
   ],
   "source": [
    "# Menggunakan fungsi dari numpy (menghitung rata-rata)\n",
    "np_nilai.mean()"
   ]
  },
  {
   "cell_type": "markdown",
   "id": "bde4fcdd-1316-4c11-aaef-73a4244095e1",
   "metadata": {},
   "source": [
    "## 4. Mengenal Data Frame"
   ]
  },
  {
   "cell_type": "markdown",
   "id": "3d9a9338-7cc7-4226-90cb-5eb7d186414d",
   "metadata": {},
   "source": [
    "### 4.1. Membuat Data Frame"
   ]
  },
  {
   "cell_type": "code",
   "execution_count": 24,
   "id": "ef8682cb-6f71-45d5-a701-4ff3361d6c1e",
   "metadata": {},
   "outputs": [],
   "source": [
    "# Memuat Library\n",
    "import pandas as pd"
   ]
  },
  {
   "cell_type": "code",
   "execution_count": 25,
   "id": "7d180f8e-d2e7-4434-93e7-862392ed5f3c",
   "metadata": {},
   "outputs": [
    {
     "data": {
      "text/html": [
       "<div>\n",
       "<style scoped>\n",
       "    .dataframe tbody tr th:only-of-type {\n",
       "        vertical-align: middle;\n",
       "    }\n",
       "\n",
       "    .dataframe tbody tr th {\n",
       "        vertical-align: top;\n",
       "    }\n",
       "\n",
       "    .dataframe thead th {\n",
       "        text-align: right;\n",
       "    }\n",
       "</style>\n",
       "<table border=\"1\" class=\"dataframe\">\n",
       "  <thead>\n",
       "    <tr style=\"text-align: right;\">\n",
       "      <th></th>\n",
       "      <th>nama</th>\n",
       "      <th>nilai</th>\n",
       "      <th>laki-laki</th>\n",
       "    </tr>\n",
       "  </thead>\n",
       "  <tbody>\n",
       "    <tr>\n",
       "      <th>0</th>\n",
       "      <td>Adi</td>\n",
       "      <td>90</td>\n",
       "      <td>True</td>\n",
       "    </tr>\n",
       "    <tr>\n",
       "      <th>1</th>\n",
       "      <td>Budi</td>\n",
       "      <td>85</td>\n",
       "      <td>True</td>\n",
       "    </tr>\n",
       "    <tr>\n",
       "      <th>2</th>\n",
       "      <td>Cindy</td>\n",
       "      <td>77</td>\n",
       "      <td>False</td>\n",
       "    </tr>\n",
       "    <tr>\n",
       "      <th>3</th>\n",
       "      <td>Didi</td>\n",
       "      <td>80</td>\n",
       "      <td>True</td>\n",
       "    </tr>\n",
       "    <tr>\n",
       "      <th>4</th>\n",
       "      <td>Entin</td>\n",
       "      <td>100</td>\n",
       "      <td>False</td>\n",
       "    </tr>\n",
       "  </tbody>\n",
       "</table>\n",
       "</div>"
      ],
      "text/plain": [
       "    nama  nilai  laki-laki\n",
       "0    Adi     90       True\n",
       "1   Budi     85       True\n",
       "2  Cindy     77      False\n",
       "3   Didi     80       True\n",
       "4  Entin    100      False"
      ]
     },
     "execution_count": 25,
     "metadata": {},
     "output_type": "execute_result"
    }
   ],
   "source": [
    "# Membuat list bertipe data seragam dan panjang sama\n",
    "nama = ['Adi', 'Budi', 'Cindy', 'Didi', 'Entin']\n",
    "nilai = [90, 85, 77, 80, 100]\n",
    "lelaki = [True, True, False, True, False]\n",
    "\n",
    "# Membuat dictionary untuk menampung list\n",
    "nilai_dict = {\n",
    "    'nama':nama,\n",
    "    'nilai':nilai,\n",
    "    'laki-laki':lelaki\n",
    "}\n",
    "\n",
    "# Konversi dictionary menjadi data frame dengan pandas\n",
    "nilai_df = pd.DataFrame(nilai_dict)\n",
    "nilai_df.head()"
   ]
  },
  {
   "cell_type": "markdown",
   "id": "43ff5c93-eba0-431b-85af-66fe1023db0e",
   "metadata": {},
   "source": [
    "### 4.2. Mengakses Elemen Data Frame"
   ]
  },
  {
   "cell_type": "code",
   "execution_count": 37,
   "id": "0f26e29b-e2ac-4808-8b24-2f554e5e213a",
   "metadata": {},
   "outputs": [
    {
     "data": {
      "text/plain": [
       "0      Adi\n",
       "1     Budi\n",
       "2    Cindy\n",
       "3     Didi\n",
       "4    Entin\n",
       "Name: nama, dtype: object"
      ]
     },
     "execution_count": 37,
     "metadata": {},
     "output_type": "execute_result"
    }
   ],
   "source": [
    "# Memilih kolom\n",
    "nilai_df['nama']"
   ]
  },
  {
   "cell_type": "code",
   "execution_count": 34,
   "id": "aaec7ec8-97da-4b22-8d7b-5b3e626325fe",
   "metadata": {},
   "outputs": [
    {
     "data": {
      "text/html": [
       "<div>\n",
       "<style scoped>\n",
       "    .dataframe tbody tr th:only-of-type {\n",
       "        vertical-align: middle;\n",
       "    }\n",
       "\n",
       "    .dataframe tbody tr th {\n",
       "        vertical-align: top;\n",
       "    }\n",
       "\n",
       "    .dataframe thead th {\n",
       "        text-align: right;\n",
       "    }\n",
       "</style>\n",
       "<table border=\"1\" class=\"dataframe\">\n",
       "  <thead>\n",
       "    <tr style=\"text-align: right;\">\n",
       "      <th></th>\n",
       "      <th>nama</th>\n",
       "      <th>nilai</th>\n",
       "      <th>laki-laki</th>\n",
       "    </tr>\n",
       "  </thead>\n",
       "  <tbody>\n",
       "    <tr>\n",
       "      <th>1</th>\n",
       "      <td>Budi</td>\n",
       "      <td>85</td>\n",
       "      <td>True</td>\n",
       "    </tr>\n",
       "    <tr>\n",
       "      <th>2</th>\n",
       "      <td>Cindy</td>\n",
       "      <td>77</td>\n",
       "      <td>False</td>\n",
       "    </tr>\n",
       "    <tr>\n",
       "      <th>3</th>\n",
       "      <td>Didi</td>\n",
       "      <td>80</td>\n",
       "      <td>True</td>\n",
       "    </tr>\n",
       "    <tr>\n",
       "      <th>4</th>\n",
       "      <td>Entin</td>\n",
       "      <td>100</td>\n",
       "      <td>False</td>\n",
       "    </tr>\n",
       "  </tbody>\n",
       "</table>\n",
       "</div>"
      ],
      "text/plain": [
       "    nama  nilai  laki-laki\n",
       "1   Budi     85       True\n",
       "2  Cindy     77      False\n",
       "3   Didi     80       True\n",
       "4  Entin    100      False"
      ]
     },
     "execution_count": 34,
     "metadata": {},
     "output_type": "execute_result"
    }
   ],
   "source": [
    "# Memilih baris\n",
    "nilai_df.loc[1:4]"
   ]
  },
  {
   "cell_type": "code",
   "execution_count": 35,
   "id": "7cef23cc-8ae2-45a3-9542-10a2ff8f13e7",
   "metadata": {
    "tags": []
   },
   "outputs": [
    {
     "data": {
      "text/html": [
       "<div>\n",
       "<style scoped>\n",
       "    .dataframe tbody tr th:only-of-type {\n",
       "        vertical-align: middle;\n",
       "    }\n",
       "\n",
       "    .dataframe tbody tr th {\n",
       "        vertical-align: top;\n",
       "    }\n",
       "\n",
       "    .dataframe thead th {\n",
       "        text-align: right;\n",
       "    }\n",
       "</style>\n",
       "<table border=\"1\" class=\"dataframe\">\n",
       "  <thead>\n",
       "    <tr style=\"text-align: right;\">\n",
       "      <th></th>\n",
       "      <th>nama</th>\n",
       "      <th>laki-laki</th>\n",
       "    </tr>\n",
       "  </thead>\n",
       "  <tbody>\n",
       "    <tr>\n",
       "      <th>1</th>\n",
       "      <td>Budi</td>\n",
       "      <td>True</td>\n",
       "    </tr>\n",
       "    <tr>\n",
       "      <th>2</th>\n",
       "      <td>Cindy</td>\n",
       "      <td>False</td>\n",
       "    </tr>\n",
       "    <tr>\n",
       "      <th>3</th>\n",
       "      <td>Didi</td>\n",
       "      <td>True</td>\n",
       "    </tr>\n",
       "    <tr>\n",
       "      <th>4</th>\n",
       "      <td>Entin</td>\n",
       "      <td>False</td>\n",
       "    </tr>\n",
       "  </tbody>\n",
       "</table>\n",
       "</div>"
      ],
      "text/plain": [
       "    nama  laki-laki\n",
       "1   Budi       True\n",
       "2  Cindy      False\n",
       "3   Didi       True\n",
       "4  Entin      False"
      ]
     },
     "execution_count": 35,
     "metadata": {},
     "output_type": "execute_result"
    }
   ],
   "source": [
    "# Memilih baris dan kolom\n",
    "nilai_df.loc[1:4, ['nama', 'laki-laki']]"
   ]
  }
 ],
 "metadata": {
  "kernelspec": {
   "display_name": "Python 3 (ipykernel)",
   "language": "python",
   "name": "python3"
  },
  "language_info": {
   "codemirror_mode": {
    "name": "ipython",
    "version": 3
   },
   "file_extension": ".py",
   "mimetype": "text/x-python",
   "name": "python",
   "nbconvert_exporter": "python",
   "pygments_lexer": "ipython3",
   "version": "3.9.7"
  },
  "toc-autonumbering": false,
  "toc-showcode": false,
  "toc-showmarkdowntxt": true,
  "widgets": {
   "application/vnd.jupyter.widget-state+json": {
    "state": {},
    "version_major": 2,
    "version_minor": 0
   }
  }
 },
 "nbformat": 4,
 "nbformat_minor": 5
}
